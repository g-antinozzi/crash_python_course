{
 "cells": [
  {
   "cell_type": "code",
   "execution_count": 88,
   "id": "57878c05",
   "metadata": {},
   "outputs": [],
   "source": [
    "def fibonacci(n):\n",
    "    \"\"\"A function that calculates the Fibonacci sequence up to the n-th term\n",
    "\n",
    "    Parameters\n",
    "    ----------\n",
    "    n : int \n",
    "        the n-th term of the sequence\n",
    "\n",
    "    Returns\n",
    "    -------\n",
    "    : list\n",
    "        a list with the Fibonacci sequence\n",
    "    \"\"\"\n",
    "    t = [0,1] #values starting the sequence\n",
    "    for k in range(2,n+1):\n",
    "        t.append(t[k-1]+t[k-2]) #append new fibonacci numbers\n",
    "    return t"
   ]
  },
  {
   "cell_type": "code",
   "execution_count": 195,
   "id": "01f90add",
   "metadata": {},
   "outputs": [],
   "source": [
    "def _test1 (f) :\n",
    "    \"\"\"A private function to test a while loop to separate in even and odd Fibonacci numbers\n",
    "    \n",
    "    Parameters\n",
    "    ----------\n",
    "    f : list\n",
    "        list of n Fibonacci numbers\n",
    "\n",
    "    Returns\n",
    "    -------\n",
    "    : tuple\n",
    "        two lists of separated odd and even Fibonacci numbers \n",
    "    \"\"\"\n",
    "    N = len(f)\n",
    "    f_odd = []\n",
    "    f_even = []\n",
    "    i = 0\n",
    "    while i < N: #iterate with a while loop over the fibonacci numbers and find odd and even\n",
    "        if f[i] % 2 == 0:\n",
    "            f_even.append(f[i])\n",
    "        else:\n",
    "            f_odd.append(f[i])\n",
    "        i+=1\n",
    "    \n",
    "    return f_even, f_odd\n",
    "\n",
    "def _test2 (f) :\n",
    "    \"\"\"A private function to test with dictionaries to separate in even and odd Fibonacci numbers\n",
    "    \n",
    "    Parameters\n",
    "    ----------\n",
    "    f : list\n",
    "        list of n Fibonacci numbers\n",
    "\n",
    "    Returns\n",
    "    -------\n",
    "    : dict\n",
    "        dict with even and odd Fibonacci numbers \n",
    "    \"\"\"\n",
    "    idx_list = list(range(len(f)))\n",
    "    fibonacci_dict = {k:v for k,v in zip(idx_list,f)} #dictionary with fibonacci numbers and their indexes \n",
    "    even = {keys: val for keys,val in fibonacci_dict.items() if val%2 == 0} #sub-dict of even fib. nums.\n",
    "    odd = {keys: val for keys,val in fibonacci_dict.items() if val%2 != 0} #sub-dict of odd fib. nums.\n",
    "    return {\"even\": even, \"odd\": odd} #dict of dicts"
   ]
  },
  {
   "cell_type": "code",
   "execution_count": 197,
   "id": "d1f2674e",
   "metadata": {},
   "outputs": [
    {
     "name": "stdout",
     "output_type": "stream",
     "text": [
      "original sequence:  [0, 1, 1, 2, 3, 5, 8, 13, 21, 34, 55]\n",
      "_test1:  ([0, 2, 8, 34], [1, 1, 3, 5, 13, 21, 55])\n",
      "_test2:  {'even': {0: 0, 3: 2, 6: 8, 9: 34}, 'odd': {1: 1, 2: 1, 4: 3, 5: 5, 7: 13, 8: 21, 10: 55}}\n",
      "method3:  [0, 2, 8, 34] [1, 1, 3, 5, 13, 21, 55]\n"
     ]
    }
   ],
   "source": [
    "import copy\n",
    "if __name__ == '__main__':\n",
    "    a = fibonacci(10)\n",
    "    \n",
    "    #We get the golden ratio from the ratio of two consecutive Fibonacci numbers \n",
    "    #as n goes to infinity\n",
    "    \n",
    "    #q = []\n",
    "    #for k in range(2,len(a)-1):\n",
    "    #    q.append(a[k]/a[k-1]) \n",
    "    #print(f\"Golden ratio: {q[-1]}\")\n",
    "    \n",
    "    #Divide into even and odd with _test1\n",
    "    T1 = _test1(a)\n",
    "    #Divide into even and odd with _test2\n",
    "    T2 = _test2(a)\n",
    "    \n",
    "    #Another possible way to create two lists with odd and even Fibonacci numbers\n",
    "    a_odd = copy.deepcopy(a)\n",
    "    a_even = []\n",
    "    for idx, el in enumerate(a_odd):\n",
    "        if el%2 == 0:\n",
    "            a_even.append(a_odd.pop(idx))\n",
    "            \n",
    "    print(\"original sequence: \", a)\n",
    "    print(\"_test1: \", T1)\n",
    "    print(\"_test2: \", T2)\n",
    "    print(\"method3: \", a_even, a_odd)"
   ]
  }
 ],
 "metadata": {
  "kernelspec": {
   "display_name": "Python 3 (ipykernel)",
   "language": "python",
   "name": "python3"
  },
  "language_info": {
   "codemirror_mode": {
    "name": "ipython",
    "version": 3
   },
   "file_extension": ".py",
   "mimetype": "text/x-python",
   "name": "python",
   "nbconvert_exporter": "python",
   "pygments_lexer": "ipython3",
   "version": "3.8.16"
  }
 },
 "nbformat": 4,
 "nbformat_minor": 5
}
