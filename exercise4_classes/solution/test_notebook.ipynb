{
 "cells": [
  {
   "cell_type": "markdown",
   "id": "ed733e6c",
   "metadata": {},
   "source": [
    "# Test Notebook "
   ]
  },
  {
   "cell_type": "markdown",
   "id": "ca65f32a",
   "metadata": {},
   "source": [
    "We test here the correct working of our $rational$ class plus some additional discussions on the algorithms to find the ratio."
   ]
  },
  {
   "cell_type": "markdown",
   "id": "2a85bf96",
   "metadata": {},
   "source": [
    "# Imports"
   ]
  },
  {
   "cell_type": "code",
   "execution_count": 1,
   "id": "b3ac9250",
   "metadata": {},
   "outputs": [],
   "source": [
    "from class_package import rational_class as rc #The class\n",
    "from class_package.ex3_package import prime_factors_mod as pfm #A module from ex3 to factorize an integer in prime numbers\n",
    "import math"
   ]
  },
  {
   "cell_type": "code",
   "execution_count": 2,
   "id": "466ca32a",
   "metadata": {},
   "outputs": [
    {
     "name": "stdout",
     "output_type": "stream",
     "text": [
      "Help on module class_package.rational_class in class_package:\n",
      "\n",
      "NAME\n",
      "    class_package.rational_class\n",
      "\n",
      "CLASSES\n",
      "    builtins.object\n",
      "        rational\n",
      "    \n",
      "    class rational(builtins.object)\n",
      "     |  rational(num, precision=1e-05, algorithm='cont_fract')\n",
      "     |  \n",
      "     |  This class creates a new type called \"rational\". It has a positional argument \"num\" which is the number from which its rational version is obtained and two keyword arguments \"precision\", the precision with which the ratio approximates \"num\", default at 1e-5, and \"algorithm\", which is the choice of the algorithm to compute the ratio, either continued fraction algorithm (\"cont_fract\" as default) or a naive one (\"naive_alg\").\n",
      "     |  \n",
      "     |  Methods defined here:\n",
      "     |  \n",
      "     |  __abs__(self)\n",
      "     |  \n",
      "     |  __add__(self, other)\n",
      "     |  \n",
      "     |  __eq__(self, other)\n",
      "     |      Return self==value.\n",
      "     |  \n",
      "     |  __float__(self)\n",
      "     |  \n",
      "     |  __ge__(self, other)\n",
      "     |      Return self>=value.\n",
      "     |  \n",
      "     |  __gt__(self, other)\n",
      "     |      Return self>value.\n",
      "     |  \n",
      "     |  __init__(self, num, precision=1e-05, algorithm='cont_fract')\n",
      "     |      Initialize self.  See help(type(self)) for accurate signature.\n",
      "     |  \n",
      "     |  __int__(self)\n",
      "     |      # overload of two constructors\n",
      "     |  \n",
      "     |  __le__(self, other)\n",
      "     |      Return self<=value.\n",
      "     |  \n",
      "     |  __lt__(self, other)\n",
      "     |      Return self<value.\n",
      "     |  \n",
      "     |  __mul__(self, other)\n",
      "     |  \n",
      "     |  __ne__(self, other)\n",
      "     |      Return self!=value.\n",
      "     |  \n",
      "     |  __repr__(self)\n",
      "     |      Return repr(self).\n",
      "     |  \n",
      "     |  __str__(self)\n",
      "     |      Return str(self).\n",
      "     |  \n",
      "     |  __sub__(self, other)\n",
      "     |  \n",
      "     |  __truediv__(self, other)\n",
      "     |  \n",
      "     |  ----------------------------------------------------------------------\n",
      "     |  Data descriptors defined here:\n",
      "     |  \n",
      "     |  __dict__\n",
      "     |      dictionary for instance variables (if defined)\n",
      "     |  \n",
      "     |  __weakref__\n",
      "     |      list of weak references to the object (if defined)\n",
      "     |  \n",
      "     |  ----------------------------------------------------------------------\n",
      "     |  Data and other attributes defined here:\n",
      "     |  \n",
      "     |  __hash__ = None\n",
      "\n",
      "FILE\n",
      "    /home/ubuntu/Desktop/python_exam/crash_python_course/exercise4_classes/solution/class_package/rational_class.py\n",
      "\n",
      "\n"
     ]
    }
   ],
   "source": [
    "help(rc)"
   ]
  },
  {
   "cell_type": "markdown",
   "id": "16e686ed",
   "metadata": {},
   "source": [
    "# Check for precision interval"
   ]
  },
  {
   "cell_type": "code",
   "execution_count": 3,
   "id": "11e20f82",
   "metadata": {},
   "outputs": [
    {
     "ename": "SystemExit",
     "evalue": "The precision used is not between [0,1]",
     "output_type": "error",
     "traceback": [
      "An exception has occurred, use %tb to see the full traceback.\n",
      "\u001b[0;31mSystemExit\u001b[0m\u001b[0;31m:\u001b[0m The precision used is not between [0,1]\n"
     ]
    },
    {
     "name": "stderr",
     "output_type": "stream",
     "text": [
      "/home/ubuntu/miniconda/envs/bns_cosmo2/lib/python3.8/site-packages/IPython/core/interactiveshell.py:3468: UserWarning: To exit: use 'exit', 'quit', or Ctrl-D.\n",
      "  warn(\"To exit: use 'exit', 'quit', or Ctrl-D.\", stacklevel=1)\n"
     ]
    }
   ],
   "source": [
    "P = rc.rational(5, precision = -3) #negative precision"
   ]
  },
  {
   "cell_type": "code",
   "execution_count": 4,
   "id": "0b885cef",
   "metadata": {},
   "outputs": [
    {
     "ename": "SystemExit",
     "evalue": "The precision used is not between [0,1]",
     "output_type": "error",
     "traceback": [
      "An exception has occurred, use %tb to see the full traceback.\n",
      "\u001b[0;31mSystemExit\u001b[0m\u001b[0;31m:\u001b[0m The precision used is not between [0,1]\n"
     ]
    }
   ],
   "source": [
    "Q = rc.rational(5, precision = 2) #larger than 1 precision"
   ]
  },
  {
   "cell_type": "markdown",
   "id": "28bd89a6",
   "metadata": {},
   "source": [
    "# Continued fraction algorithm for numerator and denominator"
   ]
  },
  {
   "cell_type": "markdown",
   "id": "49191dd7",
   "metadata": {},
   "source": [
    "Here is the test of the implementation"
   ]
  },
  {
   "cell_type": "code",
   "execution_count": 5,
   "id": "04268208",
   "metadata": {},
   "outputs": [
    {
     "name": "stdout",
     "output_type": "stream",
     "text": [
      "numerator:  355\n",
      "denominator:  113\n"
     ]
    }
   ],
   "source": [
    "precision = 1.e-5\n",
    "x = math.pi #test on pi\n",
    "\n",
    "n_list = list([1, math.floor(x)])\n",
    "d_list = list([0, 1])\n",
    "x_tmp = x - math.floor(x)\n",
    "\n",
    "while abs(n_list[1]/d_list[1] - x) > precision:\n",
    "    a = math.floor(1/x_tmp)\n",
    "    x_tmp = 1/x_tmp - a\n",
    "    n_tmp = n_list[1]\n",
    "    n_list[1] = a*n_list[1] + n_list[0]\n",
    "    n_list[0] = n_tmp\n",
    "    d_tmp = d_list[1]\n",
    "    d_list[1] = a*d_list[1] + d_list[0]\n",
    "    d_list[0] = d_tmp\n",
    "    \n",
    "print(\"numerator: \", n_list[1])\n",
    "print(\"denominator: \", d_list[1])"
   ]
  },
  {
   "cell_type": "markdown",
   "id": "dbbe382d",
   "metadata": {},
   "source": [
    "Here is the module version for the $rational$ class"
   ]
  },
  {
   "cell_type": "code",
   "execution_count": 6,
   "id": "98f577ab",
   "metadata": {},
   "outputs": [
    {
     "name": "stdout",
     "output_type": "stream",
     "text": [
      "numerator:  355\n",
      "denominator:  113\n"
     ]
    }
   ],
   "source": [
    "from class_package import cont_fract_mod as cfm\n",
    "\n",
    "L = cfm.cont_fract(x, precision)\n",
    "print(\"numerator: \", L[0])\n",
    "print(\"denominator: \", L[1])"
   ]
  },
  {
   "cell_type": "markdown",
   "id": "30f660a1",
   "metadata": {},
   "source": [
    "Here is the application inside the $rational$ class"
   ]
  },
  {
   "cell_type": "code",
   "execution_count": 7,
   "id": "2b2d6e3e",
   "metadata": {},
   "outputs": [
    {
     "name": "stdout",
     "output_type": "stream",
     "text": [
      "-355 113\n"
     ]
    }
   ],
   "source": [
    "R = rc.rational(-math.pi, precision = 1.e-5)\n",
    "print(R.numerator, R.denominator)"
   ]
  },
  {
   "cell_type": "markdown",
   "id": "a22468ee",
   "metadata": {},
   "source": [
    "# Operator overloadings"
   ]
  },
  {
   "cell_type": "markdown",
   "id": "815a9542",
   "metadata": {},
   "source": [
    "## str"
   ]
  },
  {
   "cell_type": "code",
   "execution_count": 8,
   "id": "a0b47e3e",
   "metadata": {},
   "outputs": [
    {
     "name": "stdout",
     "output_type": "stream",
     "text": [
      "-355/113\n"
     ]
    }
   ],
   "source": [
    "print(R)"
   ]
  },
  {
   "cell_type": "markdown",
   "id": "6e2409ce",
   "metadata": {},
   "source": [
    "## repr"
   ]
  },
  {
   "cell_type": "code",
   "execution_count": 9,
   "id": "8ededfbc",
   "metadata": {},
   "outputs": [
    {
     "data": {
      "text/plain": [
       "'rational(-3.141592653589793, precision=1e-05)'"
      ]
     },
     "execution_count": 9,
     "metadata": {},
     "output_type": "execute_result"
    }
   ],
   "source": [
    "repr(R)"
   ]
  },
  {
   "cell_type": "markdown",
   "id": "1feb8a91",
   "metadata": {},
   "source": [
    "# Arithmetic operands for which $\\mathbb{Q}$ is closed "
   ]
  },
  {
   "cell_type": "markdown",
   "id": "024f4668",
   "metadata": {},
   "source": [
    "## abs"
   ]
  },
  {
   "cell_type": "code",
   "execution_count": 10,
   "id": "bb546a15",
   "metadata": {},
   "outputs": [
    {
     "name": "stdout",
     "output_type": "stream",
     "text": [
      "355/113\n"
     ]
    }
   ],
   "source": [
    "r = abs(R)\n",
    "print(r)"
   ]
  },
  {
   "cell_type": "markdown",
   "id": "94da0754",
   "metadata": {},
   "source": [
    "## __add__"
   ]
  },
  {
   "cell_type": "code",
   "execution_count": 11,
   "id": "bc081785",
   "metadata": {},
   "outputs": [
    {
     "name": "stdout",
     "output_type": "stream",
     "text": [
      "1/2\n",
      "-3/10\n",
      "1/5\n"
     ]
    }
   ],
   "source": [
    "r1 = rc.rational(0.5) #if not specified, precision is 1.e-5\n",
    "print(r1)\n",
    "r2 = rc.rational(-0.3) #here we can add negative numbers \n",
    "print(r2)\n",
    "\n",
    "r3 = r1+r2 #overloading of add operator\n",
    "print(r3)"
   ]
  },
  {
   "cell_type": "markdown",
   "id": "bdd6cec3",
   "metadata": {},
   "source": [
    "## sub"
   ]
  },
  {
   "cell_type": "code",
   "execution_count": 12,
   "id": "88a2483f",
   "metadata": {},
   "outputs": [
    {
     "name": "stdout",
     "output_type": "stream",
     "text": [
      "1/2\n",
      "3/10\n",
      "1/5\n"
     ]
    }
   ],
   "source": [
    "r1 = rc.rational(0.5) \n",
    "print(r1)\n",
    "r2 = rc.rational(0.3) #here we can subtract positive numbers and compare with the previous one\n",
    "print(r2)\n",
    "\n",
    "r3 = r1-r2 #overloading of sub operator\n",
    "print(r3)"
   ]
  },
  {
   "cell_type": "markdown",
   "id": "ee4a234e",
   "metadata": {},
   "source": [
    "## mul"
   ]
  },
  {
   "cell_type": "code",
   "execution_count": 13,
   "id": "93dea019",
   "metadata": {},
   "outputs": [
    {
     "name": "stdout",
     "output_type": "stream",
     "text": [
      "1/2\n",
      "-3/10\n",
      "-3/20\n"
     ]
    }
   ],
   "source": [
    "r1 = rc.rational(0.5)\n",
    "print(r1)\n",
    "r2 = rc.rational(-0.3)\n",
    "print(r2)\n",
    "\n",
    "r3 = r1*r2 #overloading of mul operator\n",
    "print(r3)"
   ]
  },
  {
   "cell_type": "markdown",
   "id": "836b5772",
   "metadata": {},
   "source": [
    "## truediv"
   ]
  },
  {
   "cell_type": "code",
   "execution_count": 14,
   "id": "8db74e02",
   "metadata": {},
   "outputs": [
    {
     "name": "stdout",
     "output_type": "stream",
     "text": [
      "1/2\n",
      "-3/10\n",
      "-5/3\n"
     ]
    }
   ],
   "source": [
    "r1 = rc.rational(0.5)\n",
    "print(r1)\n",
    "r2 = rc.rational(-0.3)\n",
    "print(r2)\n",
    "\n",
    "r3 = r1/r2 #overloading of truediv operator\n",
    "print(r3)"
   ]
  },
  {
   "cell_type": "markdown",
   "id": "32eea1af",
   "metadata": {},
   "source": [
    "# Comparison operands"
   ]
  },
  {
   "cell_type": "markdown",
   "id": "05d092ae",
   "metadata": {},
   "source": [
    "## eq"
   ]
  },
  {
   "cell_type": "code",
   "execution_count": 15,
   "id": "cb51cfbb",
   "metadata": {},
   "outputs": [
    {
     "name": "stdout",
     "output_type": "stream",
     "text": [
      "True\n",
      "False\n",
      "False\n"
     ]
    }
   ],
   "source": [
    "r1 = rc.rational(1/2.)\n",
    "r2 = rc.rational(2/4.)\n",
    "\n",
    "print(r1 == r2)\n",
    "\n",
    "r1 = rc.rational(1/2.)\n",
    "r2 = rc.rational(-2/4.)\n",
    "\n",
    "print(r1 == r2)\n",
    "\n",
    "r1 = rc.rational(1/2.)\n",
    "r2 = rc.rational(3/4.)\n",
    "\n",
    "print(r1 == r2)"
   ]
  },
  {
   "cell_type": "markdown",
   "id": "5eac84de",
   "metadata": {},
   "source": [
    "## ne"
   ]
  },
  {
   "cell_type": "code",
   "execution_count": 16,
   "id": "d2d8477a",
   "metadata": {},
   "outputs": [
    {
     "name": "stdout",
     "output_type": "stream",
     "text": [
      "False\n",
      "True\n",
      "True\n"
     ]
    }
   ],
   "source": [
    "r1 = rc.rational(1/2.)\n",
    "r2 = rc.rational(2/4.)\n",
    "\n",
    "print(r1 != r2)\n",
    "\n",
    "r1 = rc.rational(1/2.)\n",
    "r2 = rc.rational(-2/4.)\n",
    "\n",
    "print(r1 != r2)\n",
    "\n",
    "r1 = rc.rational(1/2.)\n",
    "r2 = rc.rational(3/4.)\n",
    "\n",
    "print(r1 != r2)"
   ]
  },
  {
   "cell_type": "markdown",
   "id": "d5880af9",
   "metadata": {},
   "source": [
    "## gt, ge, lt, le"
   ]
  },
  {
   "cell_type": "code",
   "execution_count": 17,
   "id": "850672f4",
   "metadata": {},
   "outputs": [
    {
     "name": "stdout",
     "output_type": "stream",
     "text": [
      "False\n",
      "True\n",
      "False\n",
      "True\n"
     ]
    }
   ],
   "source": [
    "r1 = rc.rational(1/2.)\n",
    "r2 = rc.rational(2/4.)\n",
    "\n",
    "print(r1 > r2)\n",
    "print(r1 >= r2)\n",
    "print(r1 < r2)\n",
    "print(r1 <= r2)"
   ]
  },
  {
   "cell_type": "markdown",
   "id": "244b6dda",
   "metadata": {},
   "source": [
    "# Constructors "
   ]
  },
  {
   "cell_type": "code",
   "execution_count": 18,
   "id": "c07d12ed",
   "metadata": {},
   "outputs": [
    {
     "name": "stdout",
     "output_type": "stream",
     "text": [
      "219/400\n",
      "0\n",
      "0.5475\n"
     ]
    }
   ],
   "source": [
    "r1 = rc.rational(0.5475)\n",
    "\n",
    "print(r1)\n",
    "print(int(r1))\n",
    "print(float(r1))"
   ]
  },
  {
   "cell_type": "markdown",
   "id": "9b57222c",
   "metadata": {},
   "source": [
    "# Optional part 1: my numerator/denominator search algorithm"
   ]
  },
  {
   "cell_type": "markdown",
   "id": "8c618bef",
   "metadata": {},
   "source": [
    "This is a very naive and bad way to find numerator and denominator.\n",
    "The bottleneck is the prime factorization of the numerator which \n",
    "does not work for very high precisions, i.e. takes too long/occupies too much memory.\n",
    "The default algorithm is the continued fraction."
   ]
  },
  {
   "cell_type": "code",
   "execution_count": 19,
   "id": "87a8981c",
   "metadata": {},
   "outputs": [
    {
     "name": "stdout",
     "output_type": "stream",
     "text": [
      "3.141592653589793 = 3927/1250 with precision 7.346410206832132e-06\n"
     ]
    }
   ],
   "source": [
    "x = math.pi #number to test\n",
    "p = 1.e-5 #precision\n",
    "k=0 #truncation order\n",
    "\n",
    "n = math.floor(x) \n",
    "d = 1\n",
    "\n",
    "while abs(n/d - x) > p:\n",
    "    n = int(round(x, k)*10**k) #naively we round the numerator to the highest order such that to reach the precision \n",
    "    d = 10**k #and take the denominator as the power of 10 to the truncation order\n",
    "    k+=1\n",
    "\n",
    "#Ideally we could factorize any numerator (the prime_factorization function was implemented for the exercises3)\n",
    "t = list(pfm.prime_factorization(n)) \n",
    "\n",
    "#The denominator is easy to factorize d = 2^k * 5^k\n",
    "Ntwos = 0\n",
    "Nfives = 0\n",
    "\n",
    "#Here we check how many twos and fives are in the prime factorization of n and take them out from the numerator since they are going to divide terms in the denominator\n",
    "for j in range(len(t)):\n",
    "    if t[j] == 2:\n",
    "        Ntwos+=1\n",
    "        t[j] = 1\n",
    "    elif t[j] == 5:\n",
    "        Nfives+=1\n",
    "        t[j] = 1\n",
    "\n",
    "\n",
    "n_fin = 1\n",
    "#Here we multiply all the remaining primes of the numerator factorization\n",
    "for vals in t: n_fin*=vals\n",
    "\n",
    "#We counted the twos and fives, so we know the factorization of the denominator\n",
    "d_fin = int(d/(2**Ntwos*5**Nfives))\n",
    "\n",
    "Delta = abs(n_fin/d_fin - x)\n",
    "print(f\"{x} = {n_fin}/{d_fin} with precision {Delta}\")"
   ]
  },
  {
   "cell_type": "markdown",
   "id": "85b7bf43",
   "metadata": {},
   "source": [
    "Using precision 1.e-6 for this example breaks down the method, i.e. my simple algorithm for finding the prime factorization of 3141592 is too slow (Side note: 314159 is a prime number!). "
   ]
  },
  {
   "cell_type": "markdown",
   "id": "d3c71408",
   "metadata": {},
   "source": [
    "And implemented into the $rational$ class"
   ]
  },
  {
   "cell_type": "code",
   "execution_count": 20,
   "id": "1d320841",
   "metadata": {},
   "outputs": [
    {
     "name": "stdout",
     "output_type": "stream",
     "text": [
      "3927/1250\n"
     ]
    }
   ],
   "source": [
    "R = rc.rational(math.pi, precision = 1.e-5, algorithm = \"naive_alg\") \n",
    "print(R)"
   ]
  },
  {
   "cell_type": "markdown",
   "id": "283ae4d7",
   "metadata": {},
   "source": [
    "# Optional part 2: Hashable type"
   ]
  },
  {
   "cell_type": "code",
   "execution_count": 21,
   "id": "e5046691",
   "metadata": {},
   "outputs": [],
   "source": [
    "#Work in progress..."
   ]
  }
 ],
 "metadata": {
  "kernelspec": {
   "display_name": "Python 3 (ipykernel)",
   "language": "python",
   "name": "python3"
  },
  "language_info": {
   "codemirror_mode": {
    "name": "ipython",
    "version": 3
   },
   "file_extension": ".py",
   "mimetype": "text/x-python",
   "name": "python",
   "nbconvert_exporter": "python",
   "pygments_lexer": "ipython3",
   "version": "3.8.16"
  }
 },
 "nbformat": 4,
 "nbformat_minor": 5
}
