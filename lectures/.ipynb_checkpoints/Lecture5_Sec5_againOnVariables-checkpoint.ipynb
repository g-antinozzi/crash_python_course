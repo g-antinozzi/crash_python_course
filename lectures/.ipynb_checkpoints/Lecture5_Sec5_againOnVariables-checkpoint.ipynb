{
 "cells": [
  {
   "cell_type": "markdown",
   "id": "782d0807",
   "metadata": {},
   "source": [
    "# Section 5 - Again on variables\n",
    "\n",
    "Given their nature, there are some subtleties to be careful of when working with variables in Python applications"
   ]
  },
  {
   "cell_type": "markdown",
   "id": "4e52d163",
   "metadata": {},
   "source": [
    "## Global VS Local variables"
   ]
  },
  {
   "cell_type": "markdown",
   "id": "c54bcc12",
   "metadata": {},
   "source": [
    "### Global"
   ]
  },
  {
   "cell_type": "code",
   "execution_count": 1,
   "id": "b96a694f",
   "metadata": {},
   "outputs": [
    {
     "name": "stdout",
     "output_type": "stream",
     "text": [
      "inside foo 9\n",
      "main 9\n"
     ]
    }
   ],
   "source": [
    "b = 9\n",
    "def foo():\n",
    "    print(\"inside foo\", b)\n",
    "\n",
    "foo()\n",
    "print(\"main\", b)"
   ]
  },
  {
   "cell_type": "markdown",
   "id": "05673e2c",
   "metadata": {},
   "source": [
    "``b`` is a global variable"
   ]
  },
  {
   "cell_type": "markdown",
   "id": "afd413e3",
   "metadata": {},
   "source": [
    "###  Local"
   ]
  },
  {
   "cell_type": "code",
   "execution_count": 2,
   "id": "3ffa39b6",
   "metadata": {},
   "outputs": [
    {
     "name": "stdout",
     "output_type": "stream",
     "text": [
      "inside bar 7\n"
     ]
    },
    {
     "ename": "NameError",
     "evalue": "name 'y' is not defined",
     "output_type": "error",
     "traceback": [
      "\u001b[0;31m---------------------------------------------------------------------------\u001b[0m",
      "\u001b[0;31mNameError\u001b[0m                                 Traceback (most recent call last)",
      "Cell \u001b[0;32mIn[2], line 6\u001b[0m\n\u001b[1;32m      3\u001b[0m     \u001b[38;5;28mprint\u001b[39m(\u001b[38;5;124m\"\u001b[39m\u001b[38;5;124minside bar\u001b[39m\u001b[38;5;124m\"\u001b[39m, y)\n\u001b[1;32m      5\u001b[0m bar()\n\u001b[0;32m----> 6\u001b[0m \u001b[38;5;28mprint\u001b[39m(\u001b[38;5;124m\"\u001b[39m\u001b[38;5;124mmain\u001b[39m\u001b[38;5;124m\"\u001b[39m, \u001b[43my\u001b[49m) \u001b[38;5;66;03m# expect error\u001b[39;00m\n",
      "\u001b[0;31mNameError\u001b[0m: name 'y' is not defined"
     ]
    }
   ],
   "source": [
    "def bar():\n",
    "    y = 7\n",
    "    print(\"inside bar\", y)\n",
    "\n",
    "bar()\n",
    "print(\"main\", y) # expect error"
   ]
  },
  {
   "cell_type": "markdown",
   "id": "47a008d4",
   "metadata": {},
   "source": [
    "``y`` is a local variable"
   ]
  },
  {
   "cell_type": "markdown",
   "id": "f076215e",
   "metadata": {},
   "source": [
    "### Pay attention!"
   ]
  },
  {
   "cell_type": "code",
   "execution_count": 3,
   "id": "8efccb47",
   "metadata": {},
   "outputs": [
    {
     "name": "stdout",
     "output_type": "stream",
     "text": [
      "main 9\n"
     ]
    },
    {
     "ename": "UnboundLocalError",
     "evalue": "local variable 'b' referenced before assignment",
     "output_type": "error",
     "traceback": [
      "\u001b[0;31m---------------------------------------------------------------------------\u001b[0m",
      "\u001b[0;31mUnboundLocalError\u001b[0m                         Traceback (most recent call last)",
      "Cell \u001b[0;32mIn[3], line 8\u001b[0m\n\u001b[1;32m      5\u001b[0m     b \u001b[38;5;241m=\u001b[39m \u001b[38;5;241m6\u001b[39m\n\u001b[1;32m      7\u001b[0m \u001b[38;5;28mprint\u001b[39m(\u001b[38;5;124m\"\u001b[39m\u001b[38;5;124mmain\u001b[39m\u001b[38;5;124m\"\u001b[39m, b)\n\u001b[0;32m----> 8\u001b[0m \u001b[43mmagic\u001b[49m\u001b[43m(\u001b[49m\u001b[43m)\u001b[49m\n",
      "Cell \u001b[0;32mIn[3], line 4\u001b[0m, in \u001b[0;36mmagic\u001b[0;34m()\u001b[0m\n\u001b[1;32m      2\u001b[0m \u001b[38;5;28;01mdef\u001b[39;00m \u001b[38;5;21mmagic\u001b[39m():\n\u001b[1;32m      3\u001b[0m     y \u001b[38;5;241m=\u001b[39m \u001b[38;5;241m7\u001b[39m\n\u001b[0;32m----> 4\u001b[0m     \u001b[38;5;28mprint\u001b[39m(\u001b[38;5;124m\"\u001b[39m\u001b[38;5;124minside magic\u001b[39m\u001b[38;5;124m\"\u001b[39m, y, \u001b[43mb\u001b[49m)\n\u001b[1;32m      5\u001b[0m     b \u001b[38;5;241m=\u001b[39m \u001b[38;5;241m6\u001b[39m\n",
      "\u001b[0;31mUnboundLocalError\u001b[0m: local variable 'b' referenced before assignment"
     ]
    }
   ],
   "source": [
    "b = 9\n",
    "def magic():\n",
    "    y = 7\n",
    "    print(\"inside magic\", y, b)\n",
    "    b = 6\n",
    "\n",
    "print(\"main\", b)\n",
    "magic()"
   ]
  },
  {
   "cell_type": "code",
   "execution_count": 4,
   "id": "89eec04e",
   "metadata": {},
   "outputs": [
    {
     "name": "stdout",
     "output_type": "stream",
     "text": [
      "inside magic_local 7 6\n",
      "main 9\n"
     ]
    }
   ],
   "source": [
    "b = 9\n",
    "def magic_local():\n",
    "    y = 7\n",
    "    b = 6\n",
    "    print(\"inside magic_local\", y, b)\n",
    "\n",
    "magic_local()\n",
    "print(\"main\", b)"
   ]
  },
  {
   "cell_type": "markdown",
   "id": "0cb0e2b2",
   "metadata": {},
   "source": [
    "### `global` keyword"
   ]
  },
  {
   "cell_type": "code",
   "execution_count": 5,
   "id": "e7fceec9",
   "metadata": {},
   "outputs": [
    {
     "name": "stdout",
     "output_type": "stream",
     "text": [
      "inside magic_local 7 9\n",
      "main 6\n"
     ]
    }
   ],
   "source": [
    "b = 9\n",
    "def magic_global():\n",
    "    global b # <----\n",
    "    y = 7\n",
    "    print(\"inside magic_local\", y, b)\n",
    "    b = 6\n",
    "\n",
    "magic_global()\n",
    "print(\"main\", b)"
   ]
  },
  {
   "cell_type": "markdown",
   "id": "3acf790d",
   "metadata": {},
   "source": [
    "## Copying around variables\n",
    "\n",
    "| Copy type | Behaviour |\n",
    "|-----------|-----------|\n",
    "| **ASSIGNMENT** | make a **new variable** and assigns it the **address** of the old object | \n",
    "| **SHALLOW COPY** | make a **new object** and copies the **address** of the old object |\n",
    "| **DEEP COPY** | make a **new object** and copies the **value** of the old object (which triggers a new allocation of memory |\n",
    "\n",
    "### Shallow is the default"
   ]
  },
  {
   "cell_type": "code",
   "execution_count": 6,
   "id": "feab798b",
   "metadata": {},
   "outputs": [],
   "source": [
    "l = [1,2,[4,5,6], 8]\n",
    "o = l"
   ]
  },
  {
   "cell_type": "code",
   "execution_count": null,
   "id": "06d60004",
   "metadata": {},
   "outputs": [],
   "source": [
    "o == l"
   ]
  },
  {
   "cell_type": "code",
   "execution_count": null,
   "id": "f501c8e7",
   "metadata": {},
   "outputs": [],
   "source": [
    "o is l"
   ]
  },
  {
   "cell_type": "code",
   "execution_count": null,
   "id": "a8feefb5",
   "metadata": {},
   "outputs": [],
   "source": [
    "id(o), id(l)"
   ]
  },
  {
   "cell_type": "markdown",
   "id": "d2b0932d",
   "metadata": {},
   "source": [
    "You can call the object constructor to **make a shallow copy at assignment**:"
   ]
  },
  {
   "cell_type": "code",
   "execution_count": null,
   "id": "3f135674",
   "metadata": {},
   "outputs": [],
   "source": [
    "o = list(l)"
   ]
  },
  {
   "cell_type": "code",
   "execution_count": null,
   "id": "8fefb87c",
   "metadata": {},
   "outputs": [],
   "source": [
    "o == l"
   ]
  },
  {
   "cell_type": "code",
   "execution_count": null,
   "id": "db60de14",
   "metadata": {},
   "outputs": [],
   "source": [
    "o is l"
   ]
  },
  {
   "cell_type": "code",
   "execution_count": null,
   "id": "196edba1",
   "metadata": {},
   "outputs": [],
   "source": [
    "l.append(9)\n",
    "print(l)\n",
    "print(o)"
   ]
  },
  {
   "cell_type": "code",
   "execution_count": null,
   "id": "05816289",
   "metadata": {},
   "outputs": [],
   "source": [
    "l[2].append(7)\n",
    "print(l)\n",
    "print(o)"
   ]
  },
  {
   "cell_type": "markdown",
   "id": "b1967f9f",
   "metadata": {},
   "source": [
    "You can otherwise import the ``copy`` module and use the functions ``copy`` and ``deepcopy``"
   ]
  },
  {
   "cell_type": "code",
   "execution_count": null,
   "id": "ddf5e4df",
   "metadata": {},
   "outputs": [],
   "source": [
    "import copy"
   ]
  },
  {
   "cell_type": "code",
   "execution_count": null,
   "id": "1d516cf0",
   "metadata": {},
   "outputs": [],
   "source": [
    "o = copy.copy(l)\n",
    "l[2].append(888)\n",
    "print(l)\n",
    "print(o)"
   ]
  },
  {
   "cell_type": "markdown",
   "id": "4658d500",
   "metadata": {},
   "source": [
    "This is equivalent to \n",
    "\n",
    "```python\n",
    "o = list(l)\n",
    "```\n",
    "\n",
    "while this:"
   ]
  },
  {
   "cell_type": "code",
   "execution_count": null,
   "id": "85169817",
   "metadata": {},
   "outputs": [],
   "source": [
    "o = copy.deepcopy(l)\n",
    "l[2].append(3333)\n",
    "print(l)\n",
    "print(o)"
   ]
  },
  {
   "cell_type": "markdown",
   "id": "5685a678",
   "metadata": {},
   "source": [
    "is the most practical way to make a **deep copy**.\n",
    "\n",
    "It is equivalent to\n",
    "\n",
    "```python\n",
    "o = [ type(v)(v) for v in l ]\n",
    "```"
   ]
  }
 ],
 "metadata": {
  "kernelspec": {
   "display_name": "Python 3 (ipykernel)",
   "language": "python",
   "name": "python3"
  },
  "language_info": {
   "codemirror_mode": {
    "name": "ipython",
    "version": 3
   },
   "file_extension": ".py",
   "mimetype": "text/x-python",
   "name": "python",
   "nbconvert_exporter": "python",
   "pygments_lexer": "ipython3",
   "version": "3.8.16"
  }
 },
 "nbformat": 4,
 "nbformat_minor": 5
}
